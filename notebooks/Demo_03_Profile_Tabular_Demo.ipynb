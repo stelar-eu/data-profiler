{
 "cells": [
  {
   "cell_type": "code",
   "execution_count": null,
   "metadata": {
    "pycharm": {
     "name": "#%%\n"
    }
   },
   "outputs": [],
   "source": [
    "import sys\n",
    "sys.path.append('..')\n",
    "import warnings\n",
    "import panel as pn\n",
    "pn.extension()\n",
    "warnings.filterwarnings(\"ignore\")\n",
    "from stelardataprofiler import (\n",
    "    profile_tabular,\n",
    "    write_to_json,\n",
    "\tread_config,\n",
    "    profile_tabular_with_config,\n",
    "\tprepare_mapping\n",
    ")"
   ]
  },
  {
   "cell_type": "markdown",
   "source": [
    "## 1st Approach - Give parameters in the code"
   ],
   "metadata": {
    "collapsed": false,
    "pycharm": {
     "name": "#%% md\n"
    }
   }
  },
  {
   "cell_type": "markdown",
   "metadata": {
    "pycharm": {
     "name": "#%% md\n"
    }
   },
   "source": [
    "### Run Profiler"
   ]
  },
  {
   "cell_type": "code",
   "execution_count": null,
   "outputs": [],
   "source": [
    "my_file_path = '../datasets/tabular_example.csv'\n",
    "header = 0\n",
    "sep = '|'\n",
    "\n",
    "# include geometry columns either by adding wkt_column name or both latitude_column and longitude_column names\n",
    "# add html_path to get the html file with the results of the profiler\n",
    "profile_dict  = profile_tabular(my_file_path=my_file_path, header=header, sep=sep, html_path='./output/tabular_profile.html')"
   ],
   "metadata": {
    "collapsed": false,
    "pycharm": {
     "name": "#%%\n"
    }
   }
  },
  {
   "cell_type": "markdown",
   "source": [
    "### Write resulting dictionary"
   ],
   "metadata": {
    "collapsed": false,
    "pycharm": {
     "name": "#%% md\n"
    }
   }
  },
  {
   "cell_type": "code",
   "execution_count": null,
   "outputs": [],
   "source": [
    "write_to_json(profile_dict,  './output/tabular_profile.json')\n",
    "profile_dict"
   ],
   "metadata": {
    "collapsed": false,
    "pycharm": {
     "name": "#%%\n"
    }
   }
  },
  {
   "cell_type": "markdown",
   "source": [
    "## 2nd Approach - Give JSON configuration"
   ],
   "metadata": {
    "collapsed": false,
    "pycharm": {
     "name": "#%% md\n"
    }
   }
  },
  {
   "cell_type": "markdown",
   "source": [
    "### Extract configuration settings"
   ],
   "metadata": {
    "collapsed": false,
    "pycharm": {
     "name": "#%% md\n"
    }
   }
  },
  {
   "cell_type": "code",
   "execution_count": null,
   "outputs": [],
   "source": [
    "# JSON formatted string\n",
    "config_json = '''{\n",
    "\t\"input\": {\n",
    "\t\t\"path\": \"../datasets\",\n",
    "\t\t\"file\": \"tabular_example.csv\",\n",
    "\t\t\"format\": \".csv\",\n",
    "\t\t\"separator\": \"|\",\n",
    "\t\t\"header\": 0\n",
    "\t},\n",
    "\t\"output\": {\n",
    "\t\t\"path\": \"./output\",\n",
    "\t\t\"json\": \"tabular_profile.json\",\n",
    "\t\t\"html\": \"tabular_profile.html\"\n",
    "\t}\n",
    "}'''\n",
    "\n",
    "# JSON configuration file path\n",
    "# e.g. config_json: str = './config_template.json'\n",
    "\n",
    "# Extract configuration settings in a dictionary\n",
    "config_dict = read_config(config_json)\n",
    "config_dict"
   ],
   "metadata": {
    "collapsed": false,
    "pycharm": {
     "name": "#%%\n"
    }
   }
  },
  {
   "cell_type": "markdown",
   "source": [
    "### Run profiler (+ save html, if it has been specified in the config)"
   ],
   "metadata": {
    "collapsed": false,
    "pycharm": {
     "name": "#%% md\n"
    }
   }
  },
  {
   "cell_type": "code",
   "execution_count": null,
   "outputs": [],
   "source": [
    "profile_tabular_with_config(config_dict)"
   ],
   "metadata": {
    "collapsed": false,
    "pycharm": {
     "name": "#%%\n"
    }
   }
  },
  {
   "cell_type": "markdown",
   "source": [
    "## Write mapping .tll"
   ],
   "metadata": {
    "collapsed": false,
    "pycharm": {
     "name": "#%% md\n"
    }
   }
  },
  {
   "cell_type": "code",
   "execution_count": null,
   "outputs": [],
   "source": [
    "# JSON formatted string\n",
    "config_json = '''{\n",
    "\t\"output\": {\n",
    "\t\t\"path\": \"./output\",\n",
    "\t\t\"json\": \"tabular_profile.json\",\n",
    "\t\t\"rdf\": \"tabular_results.rdf\",\n",
    "\t\t\"serialization\" : \"turtle\"\n",
    "\t},\n",
    "\t\"profile\": {\n",
    "\t\t\"type\": \"tabular\"\n",
    "\t}\n",
    "}'''\n",
    "\n",
    "# JSON configuration file path\n",
    "# e.g. config_json: str = './config_template.json'\n",
    "\n",
    "# Extract configuration settings in a dictionary\n",
    "config_dict = read_config(config_json)\n",
    "\n",
    "prepare_mapping(config_dict)"
   ],
   "metadata": {
    "collapsed": false,
    "pycharm": {
     "name": "#%%\n"
    }
   }
  },
  {
   "cell_type": "code",
   "execution_count": null,
   "outputs": [],
   "source": [],
   "metadata": {
    "collapsed": false,
    "pycharm": {
     "name": "#%%\n"
    }
   }
  }
 ],
 "metadata": {
  "kernelspec": {
   "display_name": "Python 3 (ipykernel)",
   "language": "python",
   "name": "python3"
  },
  "language_info": {
   "codemirror_mode": {
    "name": "ipython",
    "version": 3
   },
   "file_extension": ".py",
   "mimetype": "text/x-python",
   "name": "python",
   "nbconvert_exporter": "python",
   "pygments_lexer": "ipython3",
   "version": "3.8.10"
  }
 },
 "nbformat": 4,
 "nbformat_minor": 1
}
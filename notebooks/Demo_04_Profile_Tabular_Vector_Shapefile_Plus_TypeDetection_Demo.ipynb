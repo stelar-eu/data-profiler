{
 "cells": [
  {
   "cell_type": "code",
   "execution_count": null,
   "metadata": {
    "collapsed": true,
    "pycharm": {
     "name": "#%%\n"
    }
   },
   "outputs": [],
   "source": [
    "import sys\n",
    "import warnings\n",
    "import panel as pn\n",
    "pn.extension()\n",
    "warnings.filterwarnings(\"ignore\")\n",
    "from stelardataprofiler import (\n",
    "    profile_tabular,\n",
    "    write_to_json,\n",
    "\tread_config,\n",
    "    profile_tabular_with_config,\n",
    "\tprepare_mapping\n",
    ")"
   ]
  },
  {
   "cell_type": "markdown",
   "source": [
    "## 1st Approach - Give parameters in the code"
   ],
   "metadata": {
    "collapsed": false,
    "pycharm": {
     "name": "#%% md\n"
    }
   }
  },
  {
   "cell_type": "markdown",
   "source": [
    "### Dataset Path and parameters"
   ],
   "metadata": {
    "collapsed": false
   }
  },
  {
   "cell_type": "code",
   "outputs": [],
   "source": [
    "my_file_path = '../datasets/vector_example.shp'\n",
    "\n",
    "extra_geometry_columns = [\n",
    "    {\n",
    "        'longitude': 'POINT_X',\n",
    "        'latitude': 'POINT_Y'\n",
    "    }\n",
    "]"
   ],
   "metadata": {
    "collapsed": false
   },
   "execution_count": null
  },
  {
   "cell_type": "markdown",
   "source": [
    "### Type Detection (Optional)"
   ],
   "metadata": {
    "collapsed": false
   }
  },
  {
   "cell_type": "markdown",
   "source": [
    "#### Declare inside the code"
   ],
   "metadata": {
    "collapsed": false
   }
  },
  {
   "cell_type": "code",
   "outputs": [],
   "source": [
    "from stelardataprofiler import (\n",
    "    type_detection,\n",
    "    type_detection_with_config\n",
    ")\n",
    "\n",
    "types_dict = type_detection(input_path=my_file_path,extra_geometry_columns=extra_geometry_columns)\n",
    "\n",
    "write_to_json(types_dict, './output/vector_shp_types_dict.json')\n",
    "\n",
    "types_dict"
   ],
   "metadata": {
    "collapsed": false
   },
   "execution_count": null
  },
  {
   "cell_type": "markdown",
   "source": [
    "#### Using JSON"
   ],
   "metadata": {
    "collapsed": false
   }
  },
  {
   "cell_type": "code",
   "outputs": [],
   "source": [
    "# JSON formatted string\n",
    "config_json = '''{\n",
    "\t\"input\": {\n",
    "\t\t\"files\": \"../datasets/vector_example.shp\",\n",
    "\t\t\"extra_geometry_columns\" : [\n",
    "            {\n",
    "            \"longitude\": \"POINT_X\",\n",
    "            \"latitude\": \"POINT_Y\"\n",
    "            }\n",
    "\t\t],\n",
    "\t\t\"_comment\": \"Optional parameters\",\n",
    "\t\t\"light_mode\": false,\n",
    "\t\t\"crs\": \"EPSG:4326\",\n",
    "\t\t\"num_cat_perc_threshold\": 0.5,\n",
    "\t\t\"max_freq_distr\": 10,\n",
    "\t\t\"eps_distance\": 1000\n",
    "\t},\n",
    "\t\"output\": {\n",
    "\t\t\"json\": \"./output/vector_shp_types_dict.json\"\n",
    "\t}\n",
    "}'''\n",
    "\n",
    "# JSON configuration file path\n",
    "# e.g. config_json: str = './config_template.json'\n",
    "\n",
    "# Extract configuration settings in a dictionary\n",
    "config_dict = read_config(config_json)\n",
    "\n",
    "type_detection_with_config(config=config_dict)\n",
    "\n",
    "types_dict = read_config('./output/vector_shp_types_dict.json')\n",
    "types_dict"
   ],
   "metadata": {
    "collapsed": false
   },
   "execution_count": null
  },
  {
   "cell_type": "markdown",
   "source": [
    "#### The user can view and edit the automatically detected types for each column e.g. Can change Textual to Categorical and/or Numeric to Categorical and/or Geometry to Categorical, etc.\n",
    "\n",
    "#### <font color='red'>Warning: </font> Each type must have their corresponding parameters if the type requires it. \n"
   ],
   "metadata": {
    "collapsed": false
   }
  },
  {
   "cell_type": "code",
   "outputs": [],
   "source": [
    "# Turn ADDR_GR column from Textual to Categorical\n",
    "types_dict['ADDR_GR']['type'] = 'Categorical'\n",
    "\n",
    "# Turn geometry column from Geometry to Categorical\n",
    "types_dict['geometry']['type'] = 'Categorical'\n",
    "\n",
    "# Turn PHONE column from Numeric to Categorical\n",
    "types_dict['PHONE']['type'] = 'Categorical'\n",
    "\n",
    "write_to_json(types_dict, './output/vector_shp_types_dict.json')\n",
    "\n",
    "types_dict"
   ],
   "metadata": {
    "collapsed": false
   },
   "execution_count": null
  },
  {
   "cell_type": "markdown",
   "source": [
    "### Run Profiler"
   ],
   "metadata": {
    "collapsed": false,
    "pycharm": {
     "name": "#%% md\n"
    }
   }
  },
  {
   "cell_type": "code",
   "execution_count": null,
   "outputs": [],
   "source": [
    "my_file_path = '../datasets/vector_example.shp'\n",
    "\n",
    "extra_geometry_columns = [\n",
    "    {\n",
    "        'longitude': 'POINT_X',\n",
    "        'latitude': 'POINT_Y'\n",
    "    }\n",
    "]\n",
    "\n",
    "# include extra_geometry_columns using latitude and longitude column names POINT_Y, POINT_X\n",
    "profile_dict  = profile_tabular(input_path=my_file_path, extra_geometry_columns=extra_geometry_columns)\n",
    "\n",
    "# with custom types_dict\n",
    "# profile_dict  = profile_tabular(input_path=my_file_path, extra_geometry_columns=extra_geometry_columns, types_dict=types_dict)\n",
    "\n",
    "profile_dict"
   ],
   "metadata": {
    "collapsed": false,
    "pycharm": {
     "name": "#%%\n"
    }
   }
  },
  {
   "cell_type": "markdown",
   "source": [
    "### Write resulting dictionary"
   ],
   "metadata": {
    "collapsed": false,
    "pycharm": {
     "name": "#%% md\n"
    }
   }
  },
  {
   "cell_type": "code",
   "execution_count": null,
   "outputs": [],
   "source": [
    "write_to_json(profile_dict,  './output/vector_shp_profile.json')\n",
    "profile_dict"
   ],
   "metadata": {
    "collapsed": false,
    "pycharm": {
     "name": "#%%\n"
    }
   }
  },
  {
   "cell_type": "markdown",
   "source": [
    "## 2nd Approach - Give JSON configuration"
   ],
   "metadata": {
    "collapsed": false,
    "pycharm": {
     "name": "#%% md\n"
    }
   }
  },
  {
   "cell_type": "markdown",
   "source": [
    "### Extract configuration settings"
   ],
   "metadata": {
    "collapsed": false,
    "pycharm": {
     "name": "#%% md\n"
    }
   }
  },
  {
   "cell_type": "code",
   "execution_count": null,
   "outputs": [],
   "source": [
    "config_json = '''{\n",
    "\t\"input\": {\n",
    "\t\t\"files\": [\"../datasets/vector_example.shp\"],\n",
    "\t\t\"extra_geometry_columns\" : [\n",
    "\t\t\t{\n",
    "\t\t\t\"longitude\": \"POINT_X\",\n",
    "\t\t\t\"latitude\": \"POINT_Y\"\n",
    "\t\t\t}\n",
    "\t\t],\n",
    "\t\t\"_comment\": \"Optional parameters\",\n",
    "\t\t\"light_mode\": false,\n",
    "\t\t\"crs\": \"EPSG:4326\",\n",
    "\t\t\"num_cat_perc_threshold\": 0.5,\n",
    "\t\t\"max_freq_distr\": 10,\n",
    "\t\t\"eps_distance\": 1000\n",
    "\t},\n",
    "\t\"output\": {\n",
    "\t\t\"json\": \"./output/vector_shp_profile.json\"\n",
    "\t}\n",
    "}'''\n",
    "\n",
    "# JSON configuration file path\n",
    "# e.g. config_json: str = './config_template.json'\n",
    "\n",
    "# If we want to add the custom types_dict\n",
    "config_json2 = '''{\n",
    "\t\"input\": {\n",
    "\t\t\"files\": [\"../datasets/vector_example.shp\", \"./output/vector_shp_types_dict.json\"],\n",
    "\t\t\"extra_geometry_columns\" : [\n",
    "\t\t\t{\n",
    "\t\t\t\"longitude\": \"POINT_X\",\n",
    "\t\t\t\"latitude\": \"POINT_Y\"\n",
    "\t\t\t}\n",
    "\t\t],\n",
    "\t\t\"_comment\": \"Optional parameters\",\n",
    "\t\t\"light_mode\": false,\n",
    "\t\t\"crs\": \"EPSG:4326\",\n",
    "\t\t\"num_cat_perc_threshold\": 0.5,\n",
    "\t\t\"max_freq_distr\": 10,\n",
    "\t\t\"eps_distance\": 1000\n",
    "\t},\n",
    "\t\"output\": {\n",
    "\t\t\"json\": \"./output/vector_shp_profile.json\"\n",
    "\t}\n",
    "}'''\n",
    "\n",
    "# Extract configuration settings in a dictionary\n",
    "config_dict = read_config(config_json)\n",
    "# config_dict = read_config(config_json2)\n",
    "\n",
    "config_dict"
   ],
   "metadata": {
    "collapsed": false,
    "pycharm": {
     "name": "#%%\n"
    }
   }
  },
  {
   "cell_type": "markdown",
   "source": [
    "### Run profiler"
   ],
   "metadata": {
    "collapsed": false,
    "pycharm": {
     "name": "#%% md\n"
    }
   }
  },
  {
   "cell_type": "code",
   "execution_count": null,
   "outputs": [],
   "source": [
    "profile_tabular_with_config(config_dict)"
   ],
   "metadata": {
    "collapsed": false,
    "pycharm": {
     "name": "#%%\n"
    }
   }
  },
  {
   "cell_type": "markdown",
   "source": [
    "## Write mapping .tll"
   ],
   "metadata": {
    "collapsed": false,
    "pycharm": {
     "name": "#%% md\n"
    }
   }
  },
  {
   "cell_type": "code",
   "execution_count": null,
   "outputs": [],
   "source": [
    "# JSON formatted string\n",
    "config_json = '''{\n",
    "\t\"output\": {\n",
    "\t\t\"json\": \"./output/vector_shp_profile.json\",\n",
    "\t\t\"rdf\": \"./output/vector_shp_results.rdf\",\n",
    "\t\t\"serialization\" : \"turtle\"\n",
    "\t},\n",
    "\t\"profile\": {\n",
    "\t\t\"type\": \"tabular\"\n",
    "\t}\n",
    "}'''\n",
    "\n",
    "# JSON configuration file path\n",
    "# e.g. config_json: str = './config_template.json'\n",
    "\n",
    "# Extract configuration settings in a dictionary\n",
    "config_dict = read_config(config_json)\n",
    "\n",
    "prepare_mapping(config_dict)"
   ],
   "metadata": {
    "collapsed": false,
    "pycharm": {
     "name": "#%%\n"
    }
   }
  },
  {
   "cell_type": "code",
   "execution_count": null,
   "outputs": [],
   "source": [],
   "metadata": {
    "collapsed": false,
    "pycharm": {
     "name": "#%%\n"
    }
   }
  }
 ],
 "metadata": {
  "kernelspec": {
   "display_name": "Python 3",
   "language": "python",
   "name": "python3"
  },
  "language_info": {
   "codemirror_mode": {
    "name": "ipython",
    "version": 2
   },
   "file_extension": ".py",
   "mimetype": "text/x-python",
   "name": "python",
   "nbconvert_exporter": "python",
   "pygments_lexer": "ipython2",
   "version": "2.7.6"
  }
 },
 "nbformat": 4,
 "nbformat_minor": 0
}

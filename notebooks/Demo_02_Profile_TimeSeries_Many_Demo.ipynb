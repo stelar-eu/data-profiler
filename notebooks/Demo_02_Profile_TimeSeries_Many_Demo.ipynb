{
 "cells": [
  {
   "cell_type": "code",
   "execution_count": null,
   "metadata": {
    "pycharm": {
     "name": "#%%\n"
    }
   },
   "outputs": [],
   "source": [
    "import sys\n",
    "sys.path.append('..')\n",
    "import warnings\n",
    "import panel as pn\n",
    "pn.extension()\n",
    "warnings.filterwarnings(\"ignore\")\n",
    "from stelardataprofiler import (\n",
    "    profile_timeseries,\n",
    "    write_to_json,\n",
    "\tread_config,\n",
    "    profile_timeseries_with_config,\n",
    "\tprepare_mapping\n",
    ")"
   ]
  },
  {
   "cell_type": "markdown",
   "source": [
    "## 1st Approach - Give parameters in the code"
   ],
   "metadata": {
    "collapsed": false,
    "pycharm": {
     "name": "#%% md\n"
    }
   }
  },
  {
   "cell_type": "markdown",
   "metadata": {
    "pycharm": {
     "name": "#%% md\n"
    }
   },
   "source": [
    "### Run Profiler"
   ]
  },
  {
   "cell_type": "code",
   "execution_count": null,
   "metadata": {
    "pycharm": {
     "name": "#%%\n"
    },
    "scrolled": true
   },
   "outputs": [],
   "source": [
    "my_file_path = '../datasets/timeseries/many_timeseries_example.csv'\n",
    "header = 0\n",
    "sep = ','\n",
    "time_column = \"date\"\n",
    "\n",
    "# add html_path to get the html file with the results of the profiler\n",
    "profile_dict = profile_timeseries(my_file_path, time_column, header, sep)"
   ]
  },
  {
   "cell_type": "markdown",
   "source": [
    "### Write resulting dictionary"
   ],
   "metadata": {
    "collapsed": false,
    "pycharm": {
     "name": "#%% md\n"
    }
   }
  },
  {
   "cell_type": "code",
   "execution_count": null,
   "outputs": [],
   "source": [
    "write_to_json(profile_dict,  './output/many_timeseries_profile.json')\n",
    "profile_dict"
   ],
   "metadata": {
    "collapsed": false,
    "pycharm": {
     "name": "#%%\n"
    }
   }
  },
  {
   "cell_type": "markdown",
   "source": [
    "## 2nd Approach - Give JSON configuration"
   ],
   "metadata": {
    "collapsed": false,
    "pycharm": {
     "name": "#%% md\n"
    }
   }
  },
  {
   "cell_type": "markdown",
   "source": [
    "### Extract configuration settings"
   ],
   "metadata": {
    "collapsed": false,
    "pycharm": {
     "name": "#%% md\n"
    }
   }
  },
  {
   "cell_type": "code",
   "execution_count": null,
   "outputs": [],
   "source": [
    "# JSON formatted string\n",
    "config_json = '''{\n",
    "\t\"input\": {\n",
    "\t\t\"path\": \"../datasets/timeseries\",\n",
    "\t\t\"file\": \"many_timeseries_example.csv\",\n",
    "\t\t\"format\": \".csv\",\n",
    "\t\t\"separator\": \",\",\n",
    "\t\t\"header\": 0,\n",
    "\t\t\"columns\" : {\n",
    "\t\t\t\"time\": \"date\"\n",
    "\t\t}\n",
    "\t},\n",
    "\t\"output\": {\n",
    "\t\t\"path\": \"./output\",\n",
    "\t\t\"json\": \"many_timeseries_profile.json\",\n",
    "\t\t\"html\": \"\"\n",
    "\t}\n",
    "}'''\n",
    "\n",
    "# JSON configuration file path\n",
    "# e.g. config_json: str = './config_template.json'\n",
    "\n",
    "# Extract configuration settings in a dictionary\n",
    "config_dict = read_config(config_json)\n",
    "config_dict"
   ],
   "metadata": {
    "collapsed": false,
    "pycharm": {
     "name": "#%%\n"
    }
   }
  },
  {
   "cell_type": "markdown",
   "source": [
    "### Run profiler (+ save html, if it has been specified in the config)"
   ],
   "metadata": {
    "collapsed": false,
    "pycharm": {
     "name": "#%% md\n"
    }
   }
  },
  {
   "cell_type": "code",
   "execution_count": null,
   "outputs": [],
   "source": [
    "profile_timeseries_with_config(config_dict)"
   ],
   "metadata": {
    "collapsed": false,
    "pycharm": {
     "name": "#%%\n"
    }
   }
  },
  {
   "cell_type": "markdown",
   "source": [
    "## Write mapping .tll"
   ],
   "metadata": {
    "collapsed": false,
    "pycharm": {
     "name": "#%% md\n"
    }
   }
  },
  {
   "cell_type": "code",
   "execution_count": null,
   "outputs": [],
   "source": [
    "# JSON formatted string\n",
    "config_json = '''{\n",
    "\t\"output\": {\n",
    "\t\t\"path\": \"./output\",\n",
    "\t\t\"json\": \"many_timeseries_profile.json\",\n",
    "\t\t\"rdf\": \"many_timeseries_results.rdf\",\n",
    "\t\t\"serialization\" : \"turtle\"\n",
    "\t},\n",
    "\t\"profile\": {\n",
    "\t\t\"type\": \"timeseries\"\n",
    "\t}\n",
    "}'''\n",
    "\n",
    "# JSON configuration file path\n",
    "# e.g. config_json: str = './config_template.json'\n",
    "\n",
    "# Extract configuration settings in a dictionary\n",
    "config_dict = read_config(config_json)\n",
    "\n",
    "prepare_mapping(config_dict)"
   ],
   "metadata": {
    "collapsed": false,
    "pycharm": {
     "name": "#%%\n"
    }
   }
  },
  {
   "cell_type": "code",
   "execution_count": null,
   "outputs": [],
   "source": [],
   "metadata": {
    "collapsed": false,
    "pycharm": {
     "name": "#%%\n"
    }
   }
  }
 ],
 "metadata": {
  "kernelspec": {
   "display_name": "Python 3 (ipykernel)",
   "language": "python",
   "name": "python3"
  },
  "language_info": {
   "codemirror_mode": {
    "name": "ipython",
    "version": 3
   },
   "file_extension": ".py",
   "mimetype": "text/x-python",
   "name": "python",
   "nbconvert_exporter": "python",
   "pygments_lexer": "ipython3",
   "version": "3.8.10"
  }
 },
 "nbformat": 4,
 "nbformat_minor": 1
}
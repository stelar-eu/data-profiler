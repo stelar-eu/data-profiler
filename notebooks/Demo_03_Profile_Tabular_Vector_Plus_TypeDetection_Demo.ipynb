{
 "cells": [
  {
   "cell_type": "code",
   "execution_count": null,
   "metadata": {
    "pycharm": {
     "name": "#%%\n"
    }
   },
   "outputs": [],
   "source": [
    "import sys\n",
    "import warnings\n",
    "import panel as pn\n",
    "pn.extension()\n",
    "warnings.filterwarnings(\"ignore\")\n",
    "from stelardataprofiler import (\n",
    "    profile_tabular,\n",
    "    write_to_json,\n",
    "\tread_config,\n",
    "    profile_tabular_with_config,\n",
    "\tprepare_mapping\n",
    ")\n"
   ]
  },
  {
   "cell_type": "markdown",
   "source": [
    "## 1st Approach - Give parameters in the code"
   ],
   "metadata": {
    "collapsed": false,
    "pycharm": {
     "name": "#%% md\n"
    }
   }
  },
  {
   "cell_type": "markdown",
   "source": [
    "### Dataset Path and parameters"
   ],
   "metadata": {
    "collapsed": false
   }
  },
  {
   "cell_type": "code",
   "outputs": [],
   "source": [
    "my_file_path = '../datasets/tabular_vector_example.csv'\n",
    "header = 0\n",
    "sep = '|'\n",
    "extra_geometry_columns = [\n",
    "    {\n",
    "        'longitude': 'lon',\n",
    "        'latitude': 'lat'\n",
    "    }\n",
    "]"
   ],
   "metadata": {
    "collapsed": false
   },
   "execution_count": null
  },
  {
   "cell_type": "markdown",
   "source": [
    "### Type Detection (Optional)"
   ],
   "metadata": {
    "collapsed": false
   }
  },
  {
   "cell_type": "markdown",
   "source": [
    "#### Declare inside the code"
   ],
   "metadata": {
    "collapsed": false
   }
  },
  {
   "cell_type": "code",
   "outputs": [],
   "source": [
    "from stelardataprofiler import (\n",
    "    type_detection,\n",
    "    type_detection_with_config\n",
    ")\n",
    "\n",
    "types_dict = type_detection(input_path=my_file_path, header=header, sep=sep,extra_geometry_columns=extra_geometry_columns)\n",
    "\n",
    "write_to_json(types_dict, './output/tabular_vector_types_dict.json')\n",
    "\n",
    "types_dict"
   ],
   "metadata": {
    "collapsed": false
   },
   "execution_count": null
  },
  {
   "cell_type": "markdown",
   "source": [
    "#### Using JSON"
   ],
   "metadata": {
    "collapsed": false
   }
  },
  {
   "cell_type": "code",
   "outputs": [],
   "source": [
    "# JSON formatted string\n",
    "config_json = '''{\n",
    "\t\"input\": {\n",
    "\t\t\"files\": \"../datasets/tabular_vector_example.csv\",\n",
    "\t\t\"sep\": \"|\",\n",
    "\t\t\"header\": 0,\n",
    "\t\t\"extra_geometry_columns\" : [\n",
    "\t\t\t{\n",
    "\t\t\t\"longitude\": \"lon\",\n",
    "\t\t\t\"latitude\": \"lat\"\n",
    "\t\t\t}\n",
    "\t\t],\n",
    "\t\t\"_comment\": \"Optional parameters\",\n",
    "\t\t\"light_mode\": false,\n",
    "\t\t\"crs\": \"EPSG:4326\",\n",
    "\t\t\"num_cat_perc_threshold\": 0.5,\n",
    "\t\t\"max_freq_distr\": 10,\n",
    "\t\t\"eps_distance\": 1000\n",
    "\t},\n",
    "\t\"output\": {\n",
    "\t\t\"json\": \"./output/tabular_vector_types_dict.json\"\n",
    "\t}\n",
    "}'''\n",
    "\n",
    "# JSON configuration file path\n",
    "# e.g. config_json: str = './config_template.json'\n",
    "\n",
    "# Extract configuration settings in a dictionary\n",
    "config_dict = read_config(config_json)\n",
    "\n",
    "type_detection_with_config(config=config_dict)\n",
    "\n",
    "types_dict = read_config('./output/tabular_vector_types_dict.json')\n",
    "types_dict"
   ],
   "metadata": {
    "collapsed": false
   },
   "execution_count": null
  },
  {
   "cell_type": "markdown",
   "source": [
    "#### The user can view and edit the automatically detected types for each column e.g. Can change Textual to Categorical and/or Numeric to Categorical and/or Geometry to Categorical, etc.\n",
    "\n",
    "#### <font color='red'>Warning: </font> Each type must have their corresponding parameters if the type requires it. \n"
   ],
   "metadata": {
    "collapsed": false
   }
  },
  {
   "cell_type": "code",
   "outputs": [],
   "source": [
    "# Turn housenumber column from Textual to Categorical\n",
    "types_dict['housenumber']['type'] = 'Categorical'\n",
    "\n",
    "# Turn wkt column from Geometry to Categorical\n",
    "types_dict['wkt']['type'] = 'Categorical'\n",
    "\n",
    "# Turn postcode column from Numeric to Categorical\n",
    "types_dict['postcode']['type'] = 'Categorical'\n",
    "\n",
    "write_to_json(types_dict, './output/tabular_vector_types_dict.json')\n",
    "\n",
    "types_dict"
   ],
   "metadata": {
    "collapsed": false
   },
   "execution_count": null
  },
  {
   "cell_type": "markdown",
   "metadata": {
    "pycharm": {
     "name": "#%% md\n"
    }
   },
   "source": [
    "### Run Profiler"
   ]
  },
  {
   "cell_type": "code",
   "execution_count": null,
   "outputs": [],
   "source": [
    "my_file_path = '../datasets/tabular_vector_example.csv'\n",
    "header = 0\n",
    "sep = '|'\n",
    "extra_geometry_columns = [\n",
    "    {\n",
    "        'longitude': 'lon',\n",
    "        'latitude': 'lat'\n",
    "    }\n",
    "]\n",
    "\n",
    "\n",
    "# include extra_geometry_columns using latitude and longitude column names lat, lon\n",
    "profile_dict  = profile_tabular(input_path=my_file_path, header=header, sep=sep, extra_geometry_columns=extra_geometry_columns)\n",
    "\n",
    "# with custom types_dict\n",
    "#profile_dict  = profile_tabular(input_path=my_file_path, header=header, sep=sep, extra_geometry_columns=extra_geometry_columns, types_dict=types_dict)\n",
    "\n",
    "profile_dict"
   ],
   "metadata": {
    "collapsed": false,
    "pycharm": {
     "name": "#%%\n"
    }
   }
  },
  {
   "cell_type": "markdown",
   "source": [
    "### Write resulting dictionary"
   ],
   "metadata": {
    "collapsed": false,
    "pycharm": {
     "name": "#%% md\n"
    }
   }
  },
  {
   "cell_type": "code",
   "execution_count": null,
   "outputs": [],
   "source": [
    "write_to_json(profile_dict,  './output/tabular_vector_profile.json')\n",
    "profile_dict"
   ],
   "metadata": {
    "collapsed": false,
    "pycharm": {
     "name": "#%%\n"
    }
   }
  },
  {
   "cell_type": "markdown",
   "source": [
    "## 2nd Approach - Give JSON configuration"
   ],
   "metadata": {
    "collapsed": false,
    "pycharm": {
     "name": "#%% md\n"
    }
   }
  },
  {
   "cell_type": "markdown",
   "source": [
    "### Extract configuration settings"
   ],
   "metadata": {
    "collapsed": false,
    "pycharm": {
     "name": "#%% md\n"
    }
   }
  },
  {
   "cell_type": "code",
   "execution_count": null,
   "outputs": [],
   "source": [
    "# JSON formatted string\n",
    "config_json = '''{\n",
    "\t\"input\": {\n",
    "\t\t\"files\": [\"../datasets/tabular_vector_example.csv\"],\n",
    "\t\t\"sep\": \"|\",\n",
    "\t\t\"header\": 0,\n",
    "\t\t\"extra_geometry_columns\" : [\n",
    "\t\t\t{\n",
    "\t\t\t\"longitude\": \"lon\",\n",
    "\t\t\t\"latitude\": \"lat\"\n",
    "\t\t\t}\n",
    "\t\t],\n",
    "\t\t\"_comment\": \"Optional parameters\",\n",
    "\t\t\"light_mode\": false,\n",
    "\t\t\"crs\": \"EPSG:4326\",\n",
    "\t\t\"num_cat_perc_threshold\": 0.5,\n",
    "\t\t\"max_freq_distr\": 10,\n",
    "\t\t\"eps_distance\": 1000\n",
    "\t},\n",
    "\t\"output\": {\n",
    "\t\t\"json\": \"./output/tabular_vector_profile.json\"\n",
    "\t}\n",
    "}'''\n",
    "\n",
    "# JSON configuration file path\n",
    "# e.g. config_json: str = './config_template.json'\n",
    "\n",
    "# If we want to add the custom types_dict\n",
    "config_json2 = '''{\n",
    "\t\"input\": {\n",
    "\t\t\"files\": [\"../datasets/tabular_vector_example.csv\", \"./output/tabular_vector_types_dict.json\"],\n",
    "\t\t\"sep\": \"|\",\n",
    "\t\t\"header\": 0,\n",
    "\t\t\"extra_geometry_columns\" : [\n",
    "\t\t\t{\n",
    "\t\t\t\"longitude\": \"lon\",\n",
    "\t\t\t\"latitude\": \"lat\"\n",
    "\t\t\t}\n",
    "\t\t],\n",
    "\t\t\"_comment\": \"Optional parameters\",\n",
    "\t\t\"light_mode\": false,\n",
    "\t\t\"crs\": \"EPSG:4326\",\n",
    "\t\t\"num_cat_perc_threshold\": 0.5,\n",
    "\t\t\"max_freq_distr\": 10,\n",
    "\t\t\"eps_distance\": 1000\n",
    "\t},\n",
    "\t\"output\": {\n",
    "\t\t\"json\": \"./output/tabular_vector_profile.json\"\n",
    "\t}\n",
    "}'''\n",
    "\n",
    "# Extract configuration settings in a dictionary\n",
    "config_dict = read_config(config_json)\n",
    "# config_dict = read_config(config_json2)\n",
    "\n",
    "config_dict"
   ],
   "metadata": {
    "collapsed": false,
    "pycharm": {
     "name": "#%%\n"
    }
   }
  },
  {
   "cell_type": "markdown",
   "source": [
    "### Run profiler"
   ],
   "metadata": {
    "collapsed": false,
    "pycharm": {
     "name": "#%% md\n"
    }
   }
  },
  {
   "cell_type": "code",
   "execution_count": null,
   "outputs": [],
   "source": [
    "profile_tabular_with_config(config_dict)"
   ],
   "metadata": {
    "collapsed": false,
    "pycharm": {
     "name": "#%%\n"
    }
   }
  },
  {
   "cell_type": "markdown",
   "source": [
    "## Write mapping .tll"
   ],
   "metadata": {
    "collapsed": false,
    "pycharm": {
     "name": "#%% md\n"
    }
   }
  },
  {
   "cell_type": "code",
   "execution_count": null,
   "outputs": [],
   "source": [
    "# JSON formatted string\n",
    "config_json = '''{\n",
    "\t\"output\": {\n",
    "\t\t\"json\": \"./output/tabular_vector_profile.json\",\n",
    "\t\t\"rdf\": \"./output/tabular_vector_results.rdf\",\n",
    "\t\t\"serialization\" : \"turtle\"\n",
    "\t},\n",
    "\t\"profile\": {\n",
    "\t\t\"type\": \"tabular\"\n",
    "\t}\n",
    "}'''\n",
    "\n",
    "# JSON configuration file path\n",
    "# e.g. config_json: str = './config_template.json'\n",
    "\n",
    "# Extract configuration settings in a dictionary\n",
    "config_dict = read_config(config_json)\n",
    "\n",
    "prepare_mapping(config_dict)"
   ],
   "metadata": {
    "collapsed": false,
    "pycharm": {
     "name": "#%%\n"
    }
   }
  },
  {
   "cell_type": "code",
   "execution_count": null,
   "outputs": [],
   "source": [],
   "metadata": {
    "collapsed": false,
    "pycharm": {
     "name": "#%%\n"
    }
   }
  }
 ],
 "metadata": {
  "kernelspec": {
   "display_name": "Python 3 (ipykernel)",
   "language": "python",
   "name": "python3"
  },
  "language_info": {
   "codemirror_mode": {
    "name": "ipython",
    "version": 3
   },
   "file_extension": ".py",
   "mimetype": "text/x-python",
   "name": "python",
   "nbconvert_exporter": "python",
   "pygments_lexer": "ipython3",
   "version": "3.8.10"
  }
 },
 "nbformat": 4,
 "nbformat_minor": 1
}

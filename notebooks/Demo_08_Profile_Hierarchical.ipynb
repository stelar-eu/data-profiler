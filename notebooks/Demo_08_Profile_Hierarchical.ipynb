{
 "cells": [
  {
   "cell_type": "code",
   "execution_count": null,
   "metadata": {
    "collapsed": true,
    "pycharm": {
     "name": "#%%\n"
    }
   },
   "outputs": [],
   "source": [
    "import sys\n",
    "sys.path.append('..')\n",
    "import warnings\n",
    "import panel as pn\n",
    "pn.extension()\n",
    "warnings.filterwarnings(\"ignore\")\n",
    "from stelardataprofiler import (\n",
    "    profile_hierarchical,\n",
    "    write_to_json,\n",
    "\tread_config,\n",
    "    profile_hierarchical_with_config,\n",
    "\tprepare_mapping\n",
    ")"
   ]
  },
  {
   "cell_type": "markdown",
   "source": [
    "## 1st Approach - Give parameters in the code"
   ],
   "metadata": {
    "collapsed": false,
    "pycharm": {
     "name": "#%% md\n"
    }
   }
  },
  {
   "cell_type": "markdown",
   "source": [
    "### Run Profiler"
   ],
   "metadata": {
    "collapsed": false,
    "pycharm": {
     "name": "#%% md\n"
    }
   }
  },
  {
   "cell_type": "code",
   "execution_count": null,
   "outputs": [],
   "source": [
    "json_file_path = '../datasets/json_example.json'\n",
    "profile_dict = profile_hierarchical(my_file_path=json_file_path)"
   ],
   "metadata": {
    "collapsed": false,
    "pycharm": {
     "name": "#%%\n"
    }
   }
  },
  {
   "cell_type": "markdown",
   "source": [
    "### Write resulting dictionary"
   ],
   "metadata": {
    "collapsed": false,
    "pycharm": {
     "name": "#%% md\n"
    }
   }
  },
  {
   "cell_type": "code",
   "execution_count": null,
   "outputs": [],
   "source": [
    "write_to_json(profile_dict, \"./output/hierarchical_profile.json\")\n",
    "profile_dict"
   ],
   "metadata": {
    "collapsed": false,
    "pycharm": {
     "name": "#%%\n"
    }
   }
  },
  {
   "cell_type": "markdown",
   "source": [
    "## 2nd Approach - Give JSON configuration"
   ],
   "metadata": {
    "collapsed": false,
    "pycharm": {
     "name": "#%% md\n"
    }
   }
  },
  {
   "cell_type": "markdown",
   "source": [
    "### Extract configuration settings"
   ],
   "metadata": {
    "collapsed": false,
    "pycharm": {
     "name": "#%% md\n"
    }
   }
  },
  {
   "cell_type": "code",
   "execution_count": null,
   "outputs": [],
   "source": [
    "# JSON formatted string\n",
    "config_json = '''{\n",
    "\t\"input\": {\n",
    "\t\t\"path\": \"../datasets\",\n",
    "\t\t\"file\": \"json_example.json\",\n",
    "\t\t\"format\": \".json\"\n",
    "\t},\n",
    "\t\"output\": {\n",
    "\t\t\"path\": \"./output\",\n",
    "\t\t\"json\": \"hierarchical_profile.json\"\n",
    "\t}\n",
    "}'''\n",
    "\n",
    "# JSON configuration file path\n",
    "# e.g. config_json: str = './config_template.json'\n",
    "\n",
    "# Extract configuration settings in a dictionary\n",
    "config_dict = read_config(config_json)\n",
    "config_dict"
   ],
   "metadata": {
    "collapsed": false,
    "pycharm": {
     "name": "#%%\n"
    }
   }
  },
  {
   "cell_type": "markdown",
   "source": [
    "### Run profiler"
   ],
   "metadata": {
    "collapsed": false,
    "pycharm": {
     "name": "#%% md\n"
    }
   }
  },
  {
   "cell_type": "code",
   "execution_count": null,
   "outputs": [],
   "source": [
    "profile_hierarchical_with_config(config_dict)"
   ],
   "metadata": {
    "collapsed": false,
    "pycharm": {
     "name": "#%%\n"
    }
   }
  },
  {
   "cell_type": "markdown",
   "source": [
    "## Write mapping .tll"
   ],
   "metadata": {
    "collapsed": false,
    "pycharm": {
     "name": "#%% md\n"
    }
   }
  },
  {
   "cell_type": "code",
   "execution_count": null,
   "outputs": [],
   "source": [
    "# JSON formatted string\n",
    "config_json = '''{\n",
    "\t\"output\": {\n",
    "\t\t\"path\": \"./output\",\n",
    "\t\t\"json\": \"hierarchical_profile.json\",\n",
    "\t\t\"rdf\": \"hierarchical_results.rdf\",\n",
    "\t\t\"serialization\" : \"turtle\"\n",
    "\t},\n",
    "\t\"profile\": {\n",
    "\t\t\"type\": \"hierarchical\"\n",
    "\t}\n",
    "}'''\n",
    "\n",
    "# JSON configuration file path\n",
    "# e.g. config_json: str = './config_template.json'\n",
    "\n",
    "# Extract configuration settings in a dictionary\n",
    "config_dict = read_config(config_json)\n",
    "\n",
    "prepare_mapping(config_dict)"
   ],
   "metadata": {
    "collapsed": false,
    "pycharm": {
     "name": "#%%\n"
    }
   }
  },
  {
   "cell_type": "code",
   "execution_count": null,
   "outputs": [],
   "source": [],
   "metadata": {
    "collapsed": false,
    "pycharm": {
     "name": "#%%\n"
    }
   }
  }
 ],
 "metadata": {
  "kernelspec": {
   "display_name": "Python 3",
   "language": "python",
   "name": "python3"
  },
  "language_info": {
   "codemirror_mode": {
    "name": "ipython",
    "version": 2
   },
   "file_extension": ".py",
   "mimetype": "text/x-python",
   "name": "python",
   "nbconvert_exporter": "python",
   "pygments_lexer": "ipython2",
   "version": "2.7.6"
  }
 },
 "nbformat": 4,
 "nbformat_minor": 0
}